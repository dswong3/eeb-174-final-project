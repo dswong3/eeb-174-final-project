{
 "cells": [
  {
   "cell_type": "markdown",
   "metadata": {},
   "source": [
    "## Introduction\n",
    "\n",
    "The Carnivora order is divided into the suborders Feliformia (cat-like) and Caniformia (dog-like) suborders. Feliformia includes felids (true cats), hyenas, mongooses, civets, and related taxa, while the Caniformia contains includes \"dog-like\" carnivores such as dogs, wolves, bears, weasels, and skunks (Sussle.org). In the Middle Eocene (about 40 mya), the branch of Carnivora order began to appear. Carnivora are unique from other mammals in that they have four carnassial teeth in the front of the jaw. These upper and lower pairs of teeth (molars or premolars) help self-sharpening edges to pass by each other to create a shearing manner. Feliforms are unique from Caniformia in that they have double chambered auditory bullae, which is a portion of the skull that encloses the auditory region (Feliformia - New World Encyclopedia). Molecular phylogenies suggest that all extant Feliformia are monophyletic, meaning it contains ancestral species and all its descendants (Sussle.org).\n",
    "\n",
    "The Feliforms began mainly as forest-dwelling, ambush hunters at the time. Some of the most specialized and well-known species were the saber-tooths. Most species can be found in a wide range of environments, but some have adapted to a limited range of habitats like the sand cats (Etnyre et. al). Though many species have gone extinct, there are still many species that continue to evolve. \n",
    "\n",
    "Source:\n",
    "\n",
    "Etnyre, Erika, Jenna Lande, and Alison Mckenna. \"Felidae (cats).\" Animal Diversity Web. \n",
    "    Accessed March 1, 2017. http://animaldiversity.org/accounts/Felidae/.\n",
    "\n",
    "\"Feliformia.\" Feliformia - New World Encyclopedia. December 26, 2008. Accessed February 27, \n",
    "    2017. http://www.newworldencyclopedia.org/entry/Feliformia.\n",
    "\n",
    "Sussle.org. Accessed March 6, 2017. https://sussle.org/t/Feliformia."
   ]
  },
  {
   "cell_type": "markdown",
   "metadata": {},
   "source": [
    "## Function: Choose a species and figure out its time period!\n"
   ]
  },
  {
   "cell_type": "code",
   "execution_count": 1,
   "metadata": {
    "collapsed": true
   },
   "outputs": [],
   "source": [
    "import csv\n",
    "file = open(\"/home/eeb177-student/Desktop/eeb-177/eeb-174-final-project/new.feliformia.csv\")\n",
    "#file.readline()\n",
    "readCSV = csv.reader(file, delimiter=',')\n",
    "\n",
    "    \n",
    "\n",
    "def Feliformia (identifier):\n",
    "    i = 0\n",
    "    era = None\n",
    "    for row in readCSV:\n",
    "        if( i < 18 ):\n",
    "            i += 1\n",
    "            continue\n",
    "        if( len(row) < 12 ):\n",
    "            continue\n",
    "        if( row[5] == identifier ):\n",
    "            era = row[12]\n",
    "            break\n",
    "        \n",
    "    if( era == None ):\n",
    "        print( \"Please enter a valid species\" )\n",
    "    return era"
   ]
  },
  {
   "cell_type": "code",
   "execution_count": 2,
   "metadata": {
    "collapsed": false,
    "scrolled": true
   },
   "outputs": [
    {
     "data": {
      "text/plain": [
       "'Turolian'"
      ]
     },
     "execution_count": 2,
     "metadata": {},
     "output_type": "execute_result"
    }
   ],
   "source": [
    "Feliformia(\"Viverrinae indet.\")"
   ]
  },
  {
   "cell_type": "markdown",
   "metadata": {},
   "source": [
    "## Function: Choose a time period to discover how many species and which species are found in that time period!"
   ]
  },
  {
   "cell_type": "code",
   "execution_count": 3,
   "metadata": {
    "collapsed": true
   },
   "outputs": [],
   "source": [
    "import csv\n",
    "file = open(\"/home/eeb177-student/Desktop/eeb-177/eeb-174-final-project/feliformia.csv\")\n",
    "readCSV = csv.reader(file, delimiter=',')\n",
    "\n",
    "ListOfTimePeriods = []\n",
    "\n",
    "def Feliformia (TimePeriod):\n",
    "    i = 0\n",
    "    identifier = None\n",
    "    for row in readCSV:\n",
    "        if( i < 18 ):\n",
    "            i += 1\n",
    "            continue\n",
    "        if( len(row) < 12 ):\n",
    "            continue\n",
    "        if (row[12] == TimePeriod):\n",
    "            identifier = row[5]\n",
    "            ListOfTimePeriods.append(identifier)\n",
    "            continue"
   ]
  },
  {
   "cell_type": "code",
   "execution_count": 4,
   "metadata": {
    "collapsed": false
   },
   "outputs": [
    {
     "name": "stdout",
     "output_type": "stream",
     "text": [
      "This Time Period includes 83 species, which are: Ictitherium gaudryi , Viverrinae indet. , Machairodus fires , Metailurus sp. , Machairodus ex gr. gigantheus , Ictitherium sp. , Ictitherium cf. sinence , Adcrocuta eximia , Hyaenictitherium hyaenoides , Machairodus kurteni , Hyaena sp. , Felidae indet. , Ictitherium sp. , Felis christoli , Dinofelis sp. , Amphimachairodus giganteus , Paramachairodus ? maximiliani , Thalassictis aff. hyaenoides , Metailurus parvulus , Machairodus giganteus , Adcrocuta eximia , Thalassictis adroveri , Plioviverrops guerini , Lycyaena sp. , Viverra sp. , Ictitherium sp. , Felis sp. , Ictitherium hipparionum , Adcrocuta eximia , Machairodus sp. , Ictitherium hipparionum , Adcrocuta eximia , Metailurus major , Machairodus sp. , Ictitherium hipparionum , Hyaenictis eximia , Paradoxurinae indet. , Viverridae ? indet. , Ictitherium gaudryi , Viverrinae indet. , Ictitherium gaudryi , Epimachairodus fires , Pseudaelurus sp. , Viverra sp. , Paradoxurinae indet. , Viverridae indet. , Ictitherium gaudryi , Ictitherium sp. , Epimachairodus fires , Pseudaelurus sp. , Viverrinae indet. , Ictitherium gaudryi , Pseudaelurus sp. , Viverra sp. , Viverrinae indet. , Viverridae indet. , Ictitherium gaudryi , Pseudaelurus sp. , Felis sp. , Paradoxurinae indet. , Viverridae indet. , Ictitherium gaudryi , Ictitherium sp. , Epimachairodus fires , Pseudaelurus sp. , Felis attica , Paramachairodus sp. , Machairodus sp. , Adcrocuta eximia , Felis sp. , Dinofelis sp. , Adcrocuta sp. , Ictitherium (Ictitherium) sp. , Ictitherium (Palhyaena) sp. , Machairodus giganteus , Felis attica , Paramachairodus orientalis , Adcrocuta eximia , Adcrocuta eximia , Plioviverrops sp. , cf. Metailurus parvulus , Viverridae indet. , Chasmaporthetes sp.\n"
     ]
    }
   ],
   "source": [
    "Feliformia(\"Turolian\")\n",
    "\n",
    "str1 = ' , '.join(ListOfTimePeriods)\n",
    "print (\"This Time Period includes \" + str(len(ListOfTimePeriods)) + str(\" species, which are: \") + str1)"
   ]
  },
  {
   "cell_type": "markdown",
   "metadata": {},
   "source": [
    "## Function: See how many unique species are in each time period\n"
   ]
  },
  {
   "cell_type": "code",
   "execution_count": 5,
   "metadata": {
    "collapsed": true
   },
   "outputs": [],
   "source": [
    "def Feliformia():\n",
    "    FeliformiaCSV= open(\"/home/eeb177-student/Desktop/eeb-177/eeb-174-final-project/feliformia.csv\", \"r\", encoding = \"ISO-8859-1\")\n",
    "    alldata=FeliformiaCSV.readlines() [19:]\n",
    "    Timeperiod_dict = {}\n",
    "    for line in alldata:\n",
    "        #line = line.replace('\\\"', '')\n",
    "        record_elements = line.split(\",\")\n",
    "        if len(record_elements) < 12:\n",
    "            continue\n",
    "        Timeperiod = record_elements[12]\n",
    "        if Timeperiod in Timeperiod_dict:\n",
    "            count = Timeperiod_dict[Timeperiod]\n",
    "            Timeperiod_dict[Timeperiod] = count + 1\n",
    "        else: \n",
    "            Timeperiod_dict[Timeperiod] = 1            \n",
    "    return Timeperiod_dict"
   ]
  },
  {
   "cell_type": "code",
   "execution_count": 6,
   "metadata": {
    "collapsed": false
   },
   "outputs": [
    {
     "name": "stdout",
     "output_type": "stream",
     "text": [
      "{'MN 17': 32, 'Turolian': 82, 'MN 15': 10, 'Clarendonian': 28, 'MN 11': 6, 'Neogene': 4, 'MP 30': 3, 'Early Pliocene': 2, 'MN 4': 22, 'Tortonian': 73, 'Pliocene': 218, 'Baodean': 1, 'Geringian': 14, 'MN 2': 8, 'Whitneyan': 14, 'Lujanian': 9, 'MN 6': 8, 'Middle Eocene': 1, 'Serravallian': 11, 'Holocene': 127, 'Burdigalian': 10, 'Hemphillian': 46, 'Late Hemphillian': 29, 'Astaracian': 6, 'MP 22': 14, 'Arikareean': 20, 'Chattian': 4, 'Barstovian': 21, 'Irvingtonian': 116, 'Late Pleistocene': 239, 'Early Oligocene': 24, 'Duchesnean': 1, 'MN 5': 12, 'Torrejonian': 1, 'Monroecreekian': 1, 'Rancholabrean': 15, 'Sarmatian': 5, 'MN 10': 3, 'Vallesian': 9, 'Late Pliocene': 57, 'MN 9': 4, 'Zanclean': 68, 'MN 14': 3, 'MN 16': 10, 'Orellan': 40, 'Pleistocene': 337, 'MP 21': 3, 'Chadronian': 29, 'Late Miocene': 57, 'MP 23': 9, 'Middle Miocene': 5, 'Ensenadan': 6, 'Early Pleistocene': 170, 'Early Barstovian': 4, 'Middle Pleistocene': 184, 'MP 26': 1, 'MN 12': 9, 'Ruscinian': 14, 'early Early Arikareean': 1, 'Harrisonian': 4, 'Hemingfordian': 13, 'MP 24': 1, 'Late Clarendonian': 4, 'Late Oligocene': 5, 'Miocene': 32, 'MN 1': 2, 'Gelasian': 65, 'Calabrian': 16, 'MN 7 + 8': 2, 'MN 13': 3, 'MP 25': 9, 'Rupelian': 2, 'Early Miocene': 25, 'early Early Hemphillian': 2, 'Piacenzian': 87, 'MP 28': 5, 'Langhian': 15, 'Messinian': 40, 'Uquian': 1, 'Blancan': 142, 'Oligocene': 1, 'Villanyian': 33, 'Late Eocene': 10}\n"
     ]
    }
   ],
   "source": [
    "print (Feliformia())"
   ]
  },
  {
   "cell_type": "markdown",
   "metadata": {},
   "source": [
    "## RStudio Graph\n"
   ]
  },
  {
   "cell_type": "markdown",
   "metadata": {},
   "source": [
    "view code in \"Graphs - RStudio\""
   ]
  },
  {
   "cell_type": "code",
   "execution_count": null,
   "metadata": {
    "collapsed": true
   },
   "outputs": [],
   "source": []
  }
 ],
 "metadata": {
  "kernelspec": {
   "display_name": "Python 3",
   "language": "python",
   "name": "python3"
  },
  "language_info": {
   "codemirror_mode": {
    "name": "ipython",
    "version": 3
   },
   "file_extension": ".py",
   "mimetype": "text/x-python",
   "name": "python",
   "nbconvert_exporter": "python",
   "pygments_lexer": "ipython3",
   "version": "3.5.2"
  }
 },
 "nbformat": 4,
 "nbformat_minor": 2
}
