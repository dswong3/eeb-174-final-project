{
 "cells": [
  {
   "cell_type": "code",
   "execution_count": 42,
   "metadata": {
    "collapsed": false
   },
   "outputs": [],
   "source": [
    "#create a code that can locate where min_ma is equal to 0 to get the extant species\n",
    "import csv\n",
    "file = open(\"/home/eeb177-student/Desktop/eeb-177/eeb-174-final-project/pyrate_feliformia/feliformia_occ.csv\")\n",
    "readCSV = csv.reader(file, delimiter=',')\n",
    "\n",
    "ListOfExtantSpecies = [] #create empty list\n",
    "\n",
    "def Feliformia (TimeZero):\n",
    "    i = 0\n",
    "    identifier = None\n",
    "    for row in readCSV:\n",
    "        #if( len(row) < 12 ):\n",
    "         #   continue\n",
    "        if (row[11] == TimeZero):\n",
    "            identifier = row[5]\n",
    "            ListOfExtantSpecies.append(identifier) #add or append identifier to list\n",
    "            continue\n"
   ]
  },
  {
   "cell_type": "code",
   "execution_count": 43,
   "metadata": {
    "collapsed": false,
    "scrolled": true
   },
   "outputs": [
    {
     "name": "stdout",
     "output_type": "stream",
     "text": [
      "\"Panthera leo\" , \"Crocuta\" , \"Panthera tigris\" , \"Leopardus pardalis\" , \"Puma yagouaroundi\" , \"Puma concolor\" , \"Panthera onca\" , \"Leopardus pardalis\" , \"Puma yagouaroundi\" , \"Puma concolor\" , \"Panthera onca\" , \"Crocuta crocuta\" , \"Panthera leo\" , \"Panthera pardus\" , \"Felis libyca\" , \"Hyaena hyaena\" , \"Caracal caracal\" , \"Ichneumia albicauda\" , \"Genetta genetta\" , \"Civettictis civetta\" , \"Acinonyx jubatus\" , \"Caracal serval\" , \"Genetta tigrina\" , \"Mungos mungo\" , \"Leopardus pardalis\" , \"Leopardus wiedii\" , \"Puma yagouaroundi\" , \"Puma concolor\" , \"Panthera onca\" , \"Panthera leo\" , \"Panthera pardus\" , \"Felis libyca\" , \"Ichneumia albicauda\" , \"Genetta genetta\" , \"Herpestes sanguineus\" , \"Proteles\" , \"Parahyaena brunnea\" , \"Cynictis penicillata\" , \"Genetta tigrina\" , \"Mungos mungo\" , \"Atilax paludinosus\" , \"Panthera leo\" , \"Panthera pardus\" , \"Hyaena hyaena\" , \"Felis silvestris\" , \"Panthera pardus\" , \"Felis silvestris\" , \"Felis\" , \"Crocuta crocuta\" , \"Panthera pardus\" , \"Felis silvestris\" , \"Felis\" , \"Felidae\" , \"Panthera leo\" , \"Hyaena hyaena\" , \"Felis libyca\" , \"Felis libyca\" , \"Felidae\" , \"Caracal caracal\" , \"Caracal serval\" , \"Caracal caracal\" , \"Caracal serval\" , \"Crocuta\" , \"Hyaena hyaena\" , \"Genetta\" , \"Cynictis penicillata\" , \"Herpestes ichneumon\" , \"Atilax paludinosus\" , \"Caracal caracal\" , \"Cynictis penicillata\" , \"Caracal caracal\" , \"Cynictis penicillata\" , \"Felis silvestris\" , \"Felis libyca\" , \"Panthera leo\" , \"Herpestes sanguineus\" , \"Crocuta crocuta\" , \"Herpestes sanguineus\" , \"Felis libyca\" , \"Felis silvestris\" , \"Cynictis penicillata\" , \"Cynictis penicillata\" , \"Cynictis penicillata\" , \"Panthera pardus\" , \"Cynictis penicillata\" , \"Herpestes ichneumon\" , \"Caracal caracal\" , \"Genetta genetta\" , \"Panthera pardus\" , \"Genetta\" , \"Felis libyca\" , \"Caracal caracal\" , \"Genetta genetta\" , \"Herpestes pulverulentus\" , \"Panthera pardus\" , \"Felis libyca\" , \"Caracal caracal\" , \"Cynictis penicillata\" , \"Panthera pardus\" , \"Cynictis penicillata\" , \"Cynictis penicillata\" , \"Atilax paludinosus\" , \"Felis libyca\" , \"Cynictis penicillata\" , \"Panthera pardus\" , \"Felis libyca\" , \"Caracal caracal\" , \"Genetta\" , \"Herpestes ichneumon\" , \"Herpestes pulverulentus\" , \"Panthera pardus\" , \"Felis libyca\" , \"Herpestes pulverulentus\" , \"Panthera leo\" , \"Felis libyca\" , \"Caracal caracal\" , \"Herpestes pulverulentus\" , \"Panthera pardus\" , \"Felis libyca\" , \"Caracal caracal\" , \"Parahyaena brunnea\" , \"Herpestes ichneumon\" , \"Atilax paludinosus\" , \"Herpestes pulverulentus\" , \"Crocuta crocuta\" , \"Felis libyca\" , \"Hyaena hyaena\" , \"Genetta\" , \"Viverridae\" , \"Felidae\" , \"Herpestes sanguineus\" , \"Genetta\" , \"Viverridae\" , \"Felis silvestris\" , \"Viverridae\" , \"Panthera pardus\" , \"Caracal caracal\" , \"Herpestes ichneumon\" , \"Herpestes pulverulentus\" , \"Crocuta crocuta\" , \"Felis libyca\" , \"Genetta genetta\" , \"Mungos mungo\" , \"Herpestes ichneumon\" , \"Panthera pardus\" , \"Herpestes sanguineus\" , \"Parahyaena brunnea\" , \"Crocuta crocuta\" , \"Panthera pardus\" , \"Felis libyca\" , \"Genetta\" , \"Parahyaena brunnea\" , \"Herpestes\" , \"Panthera leo\" , \"Parahyaena brunnea\" , \"Hyaena hyaena\" , \"Genetta\" , \"Felis silvestris\" , \"Viverridae\" , \"Panthera leo\" , \"Felis\" , \"Panthera leo\" , \"Civettictis civetta\" , \"Crossarchus\" , \"Viverridae\" , \"Bdeogale\" , \"Panthera pardus\" , \"Caracal serval\" , \"Atilax paludinosus\" , \"Viverridae\" , \"Puma concolor\" , \"Crocuta\" , \"Paguma larvata\" , \"Felis\" , \"Panthera pardus\" , \"Lynx rufus\" , \"Smilodon fatalis\" , \"Puma concolor\" , \"Lynx rufus\" , \"Leopardus pardalis\" , \"Leopardus\" , \"Puma yagouaroundi\" , \"Puma concolor\" , \"Smilodon populator\" , \"Puma\" , \"Lynx rufus\" , \"Felis\" , \"Herpestidae\" , \"Fossa fossana\" , \"Cryptoprocta ferox\" , \"Smilodon populator\" , \"Smilodon populator\" , \"Panthera onca\" , \"Lynx rufus\" , \"Smilodon fatalis\" , \"Puma concolor\" , \"Lynx rufus\" , \"Leopardus wiedii\" , \"Leopardus wiedii\" , \"Leopardus wiedii\" , \"Lynx rufus\" , \"Puma concolor\" , \"Herpestes ichneumon\" , \"Herpestes pulverulentus\" , \"Atilax paludinosus\" , \"Felis libyca\" , \"Felis\" , \"Panthera pardus\" , \"Panthera leo atrox\" , \"Lynx\" , \"Puma concolor\" , \"Lynx rufus\" , \"Panthera leo atrox\" , \"Hyaena\" , \"Felis\" , \"Viverridae\" , \"Suricata\" , \"Parahyaena brunnea\" , \"Crocuta crocuta\" , \"Panthera leo\" , \"Megantereon\" , \"Viverra\" , \"Leopardus pardalis\" , \"Smilodon populator\" , \"Leopardus pardalis\" , \"Puma concolor\" , \"Panthera onca\" , \"Smilodon populator\" , \"Panthera onca\" , \"Panthera onca\" , \"Leopardus braccatus\" , \"Panthera onca\" , \"Smilodon populator\" , \"Panthera onca\" , \"Leopardus tigrinus\" , \"Smilodon populator\" , \"Smilodon populator\" , \"Puma concolor\" , \"Felis\" , \"Felis\" , \"Felis silvestris\" , \"Lynx lynx\" , \"Cryptoprocta\"\n"
     ]
    }
   ],
   "source": [
    "#print all the extant species BUT there are some repeats\n",
    "Feliformia(\"0\")\n",
    "\n",
    "str1 = '\" , \"'.join(ListOfExtantSpecies) #gives every element/species from list, separated by a \" , \" \n",
    "\n",
    "print (\"\\\"\" + str1 + \"\\\"\")"
   ]
  },
  {
   "cell_type": "code",
   "execution_count": 44,
   "metadata": {
    "collapsed": false,
    "scrolled": true
   },
   "outputs": [
    {
     "name": "stdout",
     "output_type": "stream",
     "text": [
      "['Acinonyx jubatus', 'Atilax paludinosus', 'Bdeogale', 'Caracal caracal', 'Caracal serval', 'Civettictis civetta', 'Crocuta', 'Crocuta crocuta', 'Crossarchus', 'Cryptoprocta', 'Cryptoprocta ferox', 'Cynictis penicillata', 'Felidae', 'Felis', 'Felis libyca', 'Felis silvestris', 'Fossa fossana', 'Genetta', 'Genetta genetta', 'Genetta tigrina', 'Herpestes', 'Herpestes ichneumon', 'Herpestes pulverulentus', 'Herpestes sanguineus', 'Herpestidae', 'Hyaena', 'Hyaena hyaena', 'Ichneumia albicauda', 'Leopardus', 'Leopardus braccatus', 'Leopardus pardalis', 'Leopardus tigrinus', 'Leopardus wiedii', 'Lynx', 'Lynx lynx', 'Lynx rufus', 'Megantereon', 'Mungos mungo', 'Paguma larvata', 'Panthera leo', 'Panthera leo atrox', 'Panthera onca', 'Panthera pardus', 'Panthera tigris', 'Parahyaena brunnea', 'Proteles', 'Puma', 'Puma concolor', 'Puma yagouaroundi', 'Smilodon fatalis', 'Smilodon populator', 'Suricata', 'Viverra', 'Viverridae']\n"
     ]
    }
   ],
   "source": [
    "#using list 1, create a list 2 that contains ONLY species mentioned once\n",
    "\n",
    "char_list = [\"Panthera leo\" , \"Crocuta\" , \"Panthera tigris\" , \"Leopardus pardalis\" , \"Puma yagouaroundi\" , \"Puma concolor\" , \"Panthera onca\" , \"Leopardus pardalis\" , \"Puma yagouaroundi\" , \"Puma concolor\" , \"Panthera onca\" , \"Crocuta crocuta\" , \"Panthera leo\" , \"Panthera pardus\" , \"Felis libyca\" , \"Hyaena hyaena\" , \"Caracal caracal\" , \"Ichneumia albicauda\" , \"Genetta genetta\" , \"Civettictis civetta\" , \"Acinonyx jubatus\" , \"Caracal serval\" , \"Genetta tigrina\" , \"Mungos mungo\" , \"Leopardus pardalis\" , \"Leopardus wiedii\" , \"Puma yagouaroundi\" , \"Puma concolor\" , \"Panthera onca\" , \"Panthera leo\" , \"Panthera pardus\" , \"Felis libyca\" , \"Ichneumia albicauda\" , \"Genetta genetta\" , \"Herpestes sanguineus\" , \"Proteles\" , \"Parahyaena brunnea\" , \"Cynictis penicillata\" , \"Genetta tigrina\" , \"Mungos mungo\" , \"Atilax paludinosus\" , \"Panthera leo\" , \"Panthera pardus\" , \"Hyaena hyaena\" , \"Felis silvestris\" , \"Panthera pardus\" , \"Felis silvestris\" , \"Felis\" , \"Crocuta crocuta\" , \"Panthera pardus\" , \"Felis silvestris\" , \"Felis\" , \"Felidae\" , \"Panthera leo\" , \"Hyaena hyaena\" , \"Felis libyca\" , \"Felis libyca\" , \"Felidae\" , \"Caracal caracal\" , \"Caracal serval\" , \"Caracal caracal\" , \"Caracal serval\" , \"Crocuta\" , \"Hyaena hyaena\" , \"Genetta\" , \"Cynictis penicillata\" , \"Herpestes ichneumon\" , \"Atilax paludinosus\" , \"Caracal caracal\" , \"Cynictis penicillata\" , \"Caracal caracal\" , \"Cynictis penicillata\" , \"Felis silvestris\" , \"Felis libyca\" , \"Panthera leo\" , \"Herpestes sanguineus\" , \"Crocuta crocuta\" , \"Herpestes sanguineus\" , \"Felis libyca\" , \"Felis silvestris\" , \"Cynictis penicillata\" , \"Cynictis penicillata\" , \"Cynictis penicillata\" , \"Panthera pardus\" , \"Cynictis penicillata\" , \"Herpestes ichneumon\" , \"Caracal caracal\" , \"Genetta genetta\" , \"Panthera pardus\" , \"Genetta\" , \"Felis libyca\" , \"Caracal caracal\" , \"Genetta genetta\" , \"Herpestes pulverulentus\" , \"Panthera pardus\" , \"Felis libyca\" , \"Caracal caracal\" , \"Cynictis penicillata\" , \"Panthera pardus\" , \"Cynictis penicillata\" , \"Cynictis penicillata\" , \"Atilax paludinosus\" , \"Felis libyca\" , \"Cynictis penicillata\" , \"Panthera pardus\" , \"Felis libyca\" , \"Caracal caracal\" , \"Genetta\" , \"Herpestes ichneumon\" , \"Herpestes pulverulentus\" , \"Panthera pardus\" , \"Felis libyca\" , \"Herpestes pulverulentus\" , \"Panthera leo\" , \"Felis libyca\" , \"Caracal caracal\" , \"Herpestes pulverulentus\" , \"Panthera pardus\" , \"Felis libyca\" , \"Caracal caracal\" , \"Parahyaena brunnea\" , \"Herpestes ichneumon\" , \"Atilax paludinosus\" , \"Herpestes pulverulentus\" , \"Crocuta crocuta\" , \"Felis libyca\" , \"Hyaena hyaena\" , \"Genetta\" , \"Viverridae\" , \"Felidae\" , \"Herpestes sanguineus\" , \"Genetta\" , \"Viverridae\" , \"Felis silvestris\" , \"Viverridae\" , \"Panthera pardus\" , \"Caracal caracal\" , \"Herpestes ichneumon\" , \"Herpestes pulverulentus\" , \"Crocuta crocuta\" , \"Felis libyca\" , \"Genetta genetta\" , \"Mungos mungo\" , \"Herpestes ichneumon\" , \"Panthera pardus\" , \"Herpestes sanguineus\" , \"Parahyaena brunnea\" , \"Crocuta crocuta\" , \"Panthera pardus\" , \"Felis libyca\" , \"Genetta\" , \"Parahyaena brunnea\" , \"Herpestes\" , \"Panthera leo\" , \"Parahyaena brunnea\" , \"Hyaena hyaena\" , \"Genetta\" , \"Felis silvestris\" , \"Viverridae\" , \"Panthera leo\" , \"Felis\" , \"Panthera leo\" , \"Civettictis civetta\" , \"Crossarchus\" , \"Viverridae\" , \"Bdeogale\" , \"Panthera pardus\" , \"Caracal serval\" , \"Atilax paludinosus\" , \"Viverridae\" , \"Puma concolor\" , \"Crocuta\" , \"Paguma larvata\" , \"Felis\" , \"Panthera pardus\" , \"Lynx rufus\" , \"Smilodon fatalis\" , \"Puma concolor\" , \"Lynx rufus\" , \"Leopardus pardalis\" , \"Leopardus\" , \"Puma yagouaroundi\" , \"Puma concolor\" , \"Smilodon populator\" , \"Puma\" , \"Lynx rufus\" , \"Felis\" , \"Herpestidae\" , \"Fossa fossana\" , \"Cryptoprocta ferox\" , \"Smilodon populator\" , \"Smilodon populator\" , \"Panthera onca\" , \"Lynx rufus\" , \"Smilodon fatalis\" , \"Puma concolor\" , \"Lynx rufus\" , \"Leopardus wiedii\" , \"Leopardus wiedii\" , \"Leopardus wiedii\" , \"Lynx rufus\" , \"Puma concolor\" , \"Herpestes ichneumon\" , \"Herpestes pulverulentus\" , \"Atilax paludinosus\" , \"Felis libyca\" , \"Felis\" , \"Panthera pardus\" , \"Panthera leo atrox\" , \"Lynx\" , \"Puma concolor\" , \"Lynx rufus\" , \"Panthera leo atrox\" , \"Hyaena\" , \"Felis\" , \"Viverridae\" , \"Suricata\" , \"Parahyaena brunnea\" , \"Crocuta crocuta\" , \"Panthera leo\" , \"Megantereon\" , \"Viverra\" , \"Leopardus pardalis\" , \"Smilodon populator\" , \"Leopardus pardalis\" , \"Puma concolor\" , \"Panthera onca\" , \"Smilodon populator\" , \"Panthera onca\" , \"Panthera onca\" , \"Leopardus braccatus\" , \"Panthera onca\" , \"Smilodon populator\" , \"Panthera onca\" , \"Leopardus tigrinus\" , \"Smilodon populator\" , \"Smilodon populator\" , \"Puma concolor\" , \"Felis\" , \"Felis\" , \"Felis silvestris\" , \"Lynx lynx\" , \"Cryptoprocta\"]\n",
    "\n",
    "chars = []\n",
    "for i in char_list:\n",
    "    if i not in chars:\n",
    "        chars.append(i)\n",
    "chars.sort()\n",
    "\n",
    "\n",
    "print (chars)"
   ]
  }
 ],
 "metadata": {
  "kernelspec": {
   "display_name": "Python 3",
   "language": "python",
   "name": "python3"
  },
  "language_info": {
   "codemirror_mode": {
    "name": "ipython",
    "version": 3
   },
   "file_extension": ".py",
   "mimetype": "text/x-python",
   "name": "python",
   "nbconvert_exporter": "python",
   "pygments_lexer": "ipython3",
   "version": "3.5.2"
  }
 },
 "nbformat": 4,
 "nbformat_minor": 2
}
