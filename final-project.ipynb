{
 "cells": [
  {
   "cell_type": "code",
   "execution_count": 14,
   "metadata": {
    "collapsed": false
   },
   "outputs": [],
   "source": [
    "file = open(\"/home/eeb177-student/Desktop/eeb-177/eeb-174-final-project/new.feliformia.csv\")\n",
    "file.readline()\n",
    "\n",
    "def Feliformia (filedata):\n",
    "    feliformia_dict = {}\n",
    "    specieslist = open(filename, \"r\", enconding = \"ISO-8859-1\")\n",
    "    feliformia_data = specieslist.readlines()[19:]\n",
    "    for line in feliformia_data:\n",
    "        split = line.split(\",\")\n",
    "        species = split[6]\n",
    "        timeperiod = split[13]\n",
    "        feliformia_dict[species] = timeperiod\n",
    "    return (feliformia_dict)"
   ]
  }
 ],
 "metadata": {
  "anaconda-cloud": {},
  "kernelspec": {
   "display_name": "Python 3",
   "language": "python",
   "name": "python3"
  },
  "language_info": {
   "codemirror_mode": {
    "name": "ipython",
    "version": 3
   },
   "file_extension": ".py",
   "mimetype": "text/x-python",
   "name": "python",
   "nbconvert_exporter": "python",
   "pygments_lexer": "ipython3",
   "version": "3.5.2"
  }
 },
 "nbformat": 4,
 "nbformat_minor": 2
}
