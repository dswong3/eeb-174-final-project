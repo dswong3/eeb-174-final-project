{
 "cells": [
  {
   "cell_type": "markdown",
   "metadata": {},
   "source": [
    "# Drafted Markdown Outline"
   ]
  },
  {
   "cell_type": "markdown",
   "metadata": {},
   "source": [
    "## Introduction\n",
    "\n",
    "The Carnivora order is divided into the suborders Feliformia (cat-like) and Caniformia (dog-like) suborders. Feliformia includes felids (true cats), hyenas, mongooses, civets, and related taxa. In the Middle Eocene (about 40 mya), the branch of Carnivora order began to appear (1). The Feliforms began mainly as forest-dwelling, ambush hunters at the time. Some of the most specialized and popular species were the saber-tooths. Most species can be found in a wide range of environments, but some have adapted to a limited range of habitats like the sand cats (2).  \n",
    "\n",
    "Source:\n",
    "\n",
    "(1) www.newworldnecyclopedia.org/entry/Feliformia#Evolution\n",
    "\n",
    "(2) animaldiversity.org/accounts/Felidae/"
   ]
  },
  {
   "cell_type": "markdown",
   "metadata": {},
   "source": [
    "## 3 Completed Functions"
   ]
  },
  {
   "cell_type": "code",
   "execution_count": 5,
   "metadata": {
    "collapsed": false
   },
   "outputs": [
    {
     "data": {
      "text/plain": [
       "'Turolian'"
      ]
     },
     "execution_count": 5,
     "metadata": {},
     "output_type": "execute_result"
    }
   ],
   "source": [
    "#input a species and output will be its time period\n",
    "\n",
    "import csv\n",
    "file = open(\"/home/eeb177-student/Desktop/eeb-177/eeb-174-final-project/new.feliformia.csv\")\n",
    "#file.readline()\n",
    "readCSV = csv.reader(file, delimiter=',')\n",
    "\n",
    "    \n",
    "\n",
    "def Feliformia (identifier):\n",
    "    i = 0\n",
    "    era = None\n",
    "    for row in readCSV:\n",
    "        if( i < 18 ):\n",
    "            i += 1\n",
    "            continue\n",
    "        if( len(row) < 12 ):\n",
    "            continue\n",
    "        if( row[5] == identifier ):\n",
    "            era = row[12]\n",
    "            break\n",
    "        \n",
    "    if( era == None ):\n",
    "        print( \"Please enter a valid species\" )\n",
    "    return era\n",
    "\n",
    "\n",
    "Feliformia(\"Viverrinae indet.\")"
   ]
  },
  {
   "cell_type": "code",
   "execution_count": 2,
   "metadata": {
    "collapsed": false,
    "scrolled": true
   },
   "outputs": [
    {
     "name": "stdout",
     "output_type": "stream",
     "text": [
      "This Time Period includes 83 species, which are: Ictitherium gaudryi , Viverrinae indet. , Machairodus fires , Metailurus sp. , Machairodus ex gr. gigantheus , Ictitherium sp. , Ictitherium cf. sinence , Adcrocuta eximia , Hyaenictitherium hyaenoides , Machairodus kurteni , Hyaena sp. , Felidae indet. , Ictitherium sp. , Felis christoli , Dinofelis sp. , Amphimachairodus giganteus , Paramachairodus ? maximiliani , Thalassictis aff. hyaenoides , Metailurus parvulus , Machairodus giganteus , Adcrocuta eximia , Thalassictis adroveri , Plioviverrops guerini , Lycyaena sp. , Viverra sp. , Ictitherium sp. , Felis sp. , Ictitherium hipparionum , Adcrocuta eximia , Machairodus sp. , Ictitherium hipparionum , Adcrocuta eximia , Metailurus major , Machairodus sp. , Ictitherium hipparionum , Hyaenictis eximia , Paradoxurinae indet. , Viverridae ? indet. , Ictitherium gaudryi , Viverrinae indet. , Ictitherium gaudryi , Epimachairodus fires , Pseudaelurus sp. , Viverra sp. , Paradoxurinae indet. , Viverridae indet. , Ictitherium gaudryi , Ictitherium sp. , Epimachairodus fires , Pseudaelurus sp. , Viverrinae indet. , Ictitherium gaudryi , Pseudaelurus sp. , Viverra sp. , Viverrinae indet. , Viverridae indet. , Ictitherium gaudryi , Pseudaelurus sp. , Felis sp. , Paradoxurinae indet. , Viverridae indet. , Ictitherium gaudryi , Ictitherium sp. , Epimachairodus fires , Pseudaelurus sp. , Felis attica , Paramachairodus sp. , Machairodus sp. , Adcrocuta eximia , Felis sp. , Dinofelis sp. , Adcrocuta sp. , Ictitherium (Ictitherium) sp. , Ictitherium (Palhyaena) sp. , Machairodus giganteus , Felis attica , Paramachairodus orientalis , Adcrocuta eximia , Adcrocuta eximia , Plioviverrops sp. , cf. Metailurus parvulus , Viverridae indet. , Chasmaporthetes sp.\n"
     ]
    }
   ],
   "source": [
    "#enter time period and it will display # of species & which species are included\n",
    "import csv\n",
    "file = open(\"/home/eeb177-student/Desktop/eeb-177/eeb-174-final-project/feliformia.csv\")\n",
    "readCSV = csv.reader(file, delimiter=',')\n",
    "\n",
    "ListOfTimePeriods = []\n",
    "\n",
    "def Feliformia (TimePeriod):\n",
    "    i = 0\n",
    "    identifier = None\n",
    "    for row in readCSV:\n",
    "        if( i < 18 ):\n",
    "            i += 1\n",
    "            continue\n",
    "        if( len(row) < 12 ):\n",
    "            continue\n",
    "        if (row[12] == TimePeriod):\n",
    "            identifier = row[5]\n",
    "            ListOfTimePeriods.append(identifier)\n",
    "            continue\n",
    "\n",
    "\n",
    "Feliformia(\"Turolian\")\n",
    "\n",
    "str1 = ' , '.join(ListOfTimePeriods)\n",
    "print (\"This Time Period includes \" + str(len(ListOfTimePeriods)) + str(\" species, which are: \") + str1)"
   ]
  },
  {
   "cell_type": "code",
   "execution_count": 3,
   "metadata": {
    "collapsed": false
   },
   "outputs": [
    {
     "name": "stdout",
     "output_type": "stream",
     "text": [
      "{'MN 12': 9, 'MN 4': 22, 'Late Pliocene': 57, 'MN 5': 12, 'Torrejonian': 1, 'MP 25': 9, 'Whitneyan': 14, 'MN 6': 8, 'Late Hemphillian': 29, 'Neogene': 4, 'Burdigalian': 10, 'Monroecreekian': 1, 'Baodean': 1, 'MN 14': 3, 'MN 15': 10, 'Lujanian': 9, 'Oligocene': 1, 'Late Miocene': 57, 'Late Pleistocene': 239, 'MN 10': 3, 'Sarmatian': 5, 'Early Barstovian': 4, 'Duchesnean': 1, 'Gelasian': 65, 'Early Miocene': 25, 'Arikareean': 20, 'Serravallian': 11, 'Uquian': 1, 'MP 28': 5, 'Rupelian': 2, 'Clarendonian': 28, 'Early Pleistocene': 170, 'Messinian': 40, 'Early Oligocene': 24, 'MN 2': 8, 'Middle Pleistocene': 184, 'Blancan': 142, 'Langhian': 15, 'MP 22': 14, 'MN 16': 10, 'Harrisonian': 4, 'MN 11': 6, 'Holocene': 127, 'Hemphillian': 46, 'Geringian': 14, 'Rancholabrean': 15, 'Hemingfordian': 13, 'Ensenadan': 6, 'Late Eocene': 10, 'Vallesian': 9, 'Tortonian': 73, 'MN 1': 2, 'MP 21': 3, 'early Early Arikareean': 1, 'MN 13': 3, 'Late Oligocene': 5, 'Pleistocene': 337, 'MN 9': 4, 'MP 23': 9, 'Zanclean': 68, 'Irvingtonian': 116, 'Calabrian': 16, 'Late Clarendonian': 4, 'Barstovian': 21, 'Middle Eocene': 1, 'Piacenzian': 87, 'Chattian': 4, 'early Early Hemphillian': 2, 'Ruscinian': 14, 'Orellan': 40, 'MP 30': 3, 'Turolian': 82, 'Chadronian': 29, 'Pliocene': 218, 'Middle Miocene': 5, 'MP 24': 1, 'Astaracian': 6, 'MN 17': 32, 'MP 26': 1, 'Early Pliocene': 2, 'MN 7 + 8': 2, 'Miocene': 32, 'Villanyian': 33}\n"
     ]
    }
   ],
   "source": [
    "#prints all the time periods and how many unique species are in each time period\n",
    "\n",
    "def Feliformia():\n",
    "    FeliformiaCSV= open(\"/home/eeb177-student/Desktop/eeb-177/eeb-174-final-project/feliformia.csv\", \"r\", encoding = \"ISO-8859-1\")\n",
    "    alldata=FeliformiaCSV.readlines() [19:]\n",
    "    Timeperiod_dict = {}\n",
    "    for line in alldata:\n",
    "        #line = line.replace('\\\"', '')\n",
    "        record_elements = line.split(\",\")\n",
    "        if len(record_elements) < 12:\n",
    "            continue\n",
    "        Timeperiod = record_elements[12]\n",
    "        if Timeperiod in Timeperiod_dict:\n",
    "            count = Timeperiod_dict[Timeperiod]\n",
    "            Timeperiod_dict[Timeperiod] = count + 1\n",
    "        else: \n",
    "            Timeperiod_dict[Timeperiod] = 1            \n",
    "    return Timeperiod_dict\n",
    "\n",
    "print (Feliformia())"
   ]
  },
  {
   "cell_type": "markdown",
   "metadata": {},
   "source": [
    "## what still needs to be done"
   ]
  },
  {
   "cell_type": "markdown",
   "metadata": {},
   "source": [
    "## Creating Plots in R\n",
    "\n",
    "#use library(ggplot2)\n",
    "#read in csv file using r studio\n",
    "#define names\n",
    "#make graph using maxage and minage\n",
    "#color coat graphs differently for visual\n",
    "#change axis and title\n",
    "#clean up any spacing / rotation / etc."
   ]
  },
  {
   "cell_type": "markdown",
   "metadata": {},
   "source": [
    "## Other Figures\n",
    "\n",
    "#Import some pictures from the web\n",
    "\n",
    "## Additional Figure \n",
    "\n",
    "#using data from Function 3 (above)\n",
    "#use dictionary\n",
    "#use matplotlib for bar graph\n",
    "#plot # of species per time period\n",
    "#label title and axis\n"
   ]
  },
  {
   "cell_type": "code",
   "execution_count": null,
   "metadata": {
    "collapsed": true
   },
   "outputs": [],
   "source": []
  }
 ],
 "metadata": {
  "kernelspec": {
   "display_name": "Python 3",
   "language": "python",
   "name": "python3"
  },
  "language_info": {
   "codemirror_mode": {
    "name": "ipython",
    "version": 3
   },
   "file_extension": ".py",
   "mimetype": "text/x-python",
   "name": "python",
   "nbconvert_exporter": "python",
   "pygments_lexer": "ipython3",
   "version": "3.5.2"
  }
 },
 "nbformat": 4,
 "nbformat_minor": 2
}
