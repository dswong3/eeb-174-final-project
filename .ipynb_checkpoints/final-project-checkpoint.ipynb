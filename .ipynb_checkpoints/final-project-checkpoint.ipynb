{
 "cells": [
  {
   "cell_type": "code",
   "execution_count": 5,
   "metadata": {
    "collapsed": false,
    "scrolled": true
   },
   "outputs": [
    {
     "data": {
      "text/plain": [
       "'Turolian'"
      ]
     },
     "execution_count": 5,
     "metadata": {},
     "output_type": "execute_result"
    }
   ],
   "source": [
    "import csv\n",
    "file = open(\"/home/eeb177-student/Desktop/eeb-177/eeb-174-final-project/new.feliformia.csv\")\n",
    "#file.readline()\n",
    "readCSV = csv.reader(file, delimiter=',')\n",
    "\n",
    "    \n",
    "\n",
    "def Feliformia (identifier):\n",
    "    i = 0\n",
    "    era = None\n",
    "    for row in readCSV:\n",
    "        if( i < 18 ):\n",
    "            i += 1\n",
    "            continue\n",
    "        if( len(row) < 12 ):\n",
    "            continue\n",
    "        if( row[5] == identifier ):\n",
    "            era = row[12]\n",
    "            break\n",
    "        \n",
    "    if( era == None ):\n",
    "        print( \"Please enter a valid species\" )\n",
    "    return era\n",
    "\n",
    "\n",
    "Feliformia(\"Viverrinae indet.\")"
   ]
  },
  {
   "cell_type": "code",
   "execution_count": null,
   "metadata": {
    "collapsed": true
   },
   "outputs": [],
   "source": []
  }
 ],
 "metadata": {
  "anaconda-cloud": {},
  "kernelspec": {
   "display_name": "Python 3",
   "language": "python",
   "name": "python3"
  },
  "language_info": {
   "codemirror_mode": {
    "name": "ipython",
    "version": 3
   },
   "file_extension": ".py",
   "mimetype": "text/x-python",
   "name": "python",
   "nbconvert_exporter": "python",
   "pygments_lexer": "ipython3",
   "version": "3.5.2"
  }
 },
 "nbformat": 4,
 "nbformat_minor": 2
}
