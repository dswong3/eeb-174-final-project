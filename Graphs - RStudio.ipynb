{
 "cells": [
  {
   "cell_type": "markdown",
   "metadata": {},
   "source": [
    "## Used to make file for RStudio"
   ]
  },
  {
   "cell_type": "code",
   "execution_count": 42,
   "metadata": {
    "collapsed": true
   },
   "outputs": [],
   "source": [
    "infile = \"/home/eeb177-student/Desktop/eeb-177/eeb-174-final-project/cleanfeliformia.csv\"\n",
    "with open(infile, 'r') as ff:\n",
    "    feliformia_recs = ff.readlines()[1:]\n",
    "    "
   ]
  },
  {
   "cell_type": "code",
   "execution_count": 43,
   "metadata": {
    "collapsed": false
   },
   "outputs": [],
   "source": [
    "def sort_feliformia_name(data):\n",
    "    return(data.split(\",\")[5])\n",
    "    \n",
    "feliformia_sort_csv = sorted(feliformia_recs, key = sort_feliformia_name)   \n",
    "\n",
    "output_file = open(\"sorted_feliformia.csv\", \"w\")\n",
    "for entry in feliformia_sort_csv:\n",
    "    output_file.write(entry)\n",
    "    \n",
    "output_file.close()"
   ]
  },
  {
   "cell_type": "code",
   "execution_count": 47,
   "metadata": {
    "collapsed": false
   },
   "outputs": [],
   "source": [
    "def feliformia_dict(csv):\n",
    "    from collections import defaultdict\n",
    "    \n",
    "    with open(csv, \"r\") as zz:\n",
    "        feliformia_data = zz.readlines()\n",
    "    \n",
    "    species_ranges = defaultdict(list)\n",
    "\n",
    "    for line in feliformia_data:\n",
    "        line = line.replace('\"', '')\n",
    "        species = line.split(\",\")[5]\n",
    "        if len(species.split(\" \")) > 1:\n",
    "            minage = float(line.split(',')[15])\n",
    "            maxage = float(line.split(',')[16])\n",
    "            meanage = (minage + maxage) / 2\n",
    "            species_ranges[species].append(meanage) \n",
    "    return species_ranges"
   ]
  },
  {
   "cell_type": "code",
   "execution_count": 50,
   "metadata": {
    "collapsed": false
   },
   "outputs": [],
   "source": [
    "def feliformia_summary(dictionary, outputfile):\n",
    "    output = open(str(outputfile), \"w\")\n",
    "    for key in sorted(dictionary.keys()): \n",
    "        ages = dictionary[key]\n",
    "        maxage = max(ages)\n",
    "        minage = min(ages)\n",
    "        genus = key.split(\" \")[0] \n",
    "        species =key.replace(\" \", \"_\")  \n",
    "        outline = \"{},{},{},{}\\n\".format(genus, species, minage, maxage)\n",
    "        output.write(outline)\n",
    "    output.close()"
   ]
  },
  {
   "cell_type": "code",
   "execution_count": 52,
   "metadata": {
    "collapsed": true
   },
   "outputs": [],
   "source": [
    "feliformia_summary(feliformia_new_dict, \"feliformia-ranges.csv\")"
   ]
  },
  {
   "cell_type": "code",
   "execution_count": null,
   "metadata": {
    "collapsed": true
   },
   "outputs": [],
   "source": []
  }
 ],
 "metadata": {
  "kernelspec": {
   "display_name": "Python 3",
   "language": "python",
   "name": "python3"
  },
  "language_info": {
   "codemirror_mode": {
    "name": "ipython",
    "version": 3
   },
   "file_extension": ".py",
   "mimetype": "text/x-python",
   "name": "python",
   "nbconvert_exporter": "python",
   "pygments_lexer": "ipython3",
   "version": "3.5.2"
  }
 },
 "nbformat": 4,
 "nbformat_minor": 2
}
